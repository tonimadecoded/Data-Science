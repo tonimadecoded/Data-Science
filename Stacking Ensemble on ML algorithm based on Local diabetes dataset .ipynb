{
 "cells": [
  {
   "cell_type": "code",
   "execution_count": 1,
   "id": "hidden-factory",
   "metadata": {},
   "outputs": [],
   "source": [
    "#import libraries\n",
    "import numpy as np\n",
    "import pandas as pd\n",
    "import seaborn as sns\n",
    "import matplotlib.pyplot as plt"
   ]
  },
  {
   "cell_type": "markdown",
   "id": "obvious-toner",
   "metadata": {},
   "source": [
    "# Load dataset"
   ]
  },
  {
   "cell_type": "code",
   "execution_count": 2,
   "id": "electric-happening",
   "metadata": {},
   "outputs": [
    {
     "data": {
      "text/html": [
       "<div>\n",
       "<style scoped>\n",
       "    .dataframe tbody tr th:only-of-type {\n",
       "        vertical-align: middle;\n",
       "    }\n",
       "\n",
       "    .dataframe tbody tr th {\n",
       "        vertical-align: top;\n",
       "    }\n",
       "\n",
       "    .dataframe thead th {\n",
       "        text-align: right;\n",
       "    }\n",
       "</style>\n",
       "<table border=\"1\" class=\"dataframe\">\n",
       "  <thead>\n",
       "    <tr style=\"text-align: right;\">\n",
       "      <th></th>\n",
       "      <th>No. of Pregnancy</th>\n",
       "      <th>Age</th>\n",
       "      <th>BMI</th>\n",
       "      <th>BP(Systolic)</th>\n",
       "      <th>BP(Diastolic)</th>\n",
       "      <th>Genetic</th>\n",
       "      <th>Insulin</th>\n",
       "      <th>Skin Thickness(mm)</th>\n",
       "      <th>Glucose Consumption</th>\n",
       "      <th>Outcome</th>\n",
       "    </tr>\n",
       "  </thead>\n",
       "  <tbody>\n",
       "    <tr>\n",
       "      <th>0</th>\n",
       "      <td>3</td>\n",
       "      <td>50</td>\n",
       "      <td>22.263762</td>\n",
       "      <td>140</td>\n",
       "      <td>90</td>\n",
       "      <td>0</td>\n",
       "      <td>0</td>\n",
       "      <td>317.50</td>\n",
       "      <td>14.6</td>\n",
       "      <td>1</td>\n",
       "    </tr>\n",
       "    <tr>\n",
       "      <th>1</th>\n",
       "      <td>1</td>\n",
       "      <td>40</td>\n",
       "      <td>24.111159</td>\n",
       "      <td>110</td>\n",
       "      <td>80</td>\n",
       "      <td>2</td>\n",
       "      <td>0</td>\n",
       "      <td>317.50</td>\n",
       "      <td>6.1</td>\n",
       "      <td>0</td>\n",
       "    </tr>\n",
       "    <tr>\n",
       "      <th>2</th>\n",
       "      <td>0</td>\n",
       "      <td>21</td>\n",
       "      <td>17.183204</td>\n",
       "      <td>120</td>\n",
       "      <td>80</td>\n",
       "      <td>0</td>\n",
       "      <td>0</td>\n",
       "      <td>259.08</td>\n",
       "      <td>9.7</td>\n",
       "      <td>1</td>\n",
       "    </tr>\n",
       "    <tr>\n",
       "      <th>3</th>\n",
       "      <td>2</td>\n",
       "      <td>30</td>\n",
       "      <td>21.244332</td>\n",
       "      <td>130</td>\n",
       "      <td>85</td>\n",
       "      <td>0</td>\n",
       "      <td>0</td>\n",
       "      <td>322.58</td>\n",
       "      <td>17.8</td>\n",
       "      <td>1</td>\n",
       "    </tr>\n",
       "    <tr>\n",
       "      <th>4</th>\n",
       "      <td>2</td>\n",
       "      <td>35</td>\n",
       "      <td>22.819490</td>\n",
       "      <td>110</td>\n",
       "      <td>75</td>\n",
       "      <td>0</td>\n",
       "      <td>0</td>\n",
       "      <td>335.28</td>\n",
       "      <td>16.7</td>\n",
       "      <td>1</td>\n",
       "    </tr>\n",
       "    <tr>\n",
       "      <th>...</th>\n",
       "      <td>...</td>\n",
       "      <td>...</td>\n",
       "      <td>...</td>\n",
       "      <td>...</td>\n",
       "      <td>...</td>\n",
       "      <td>...</td>\n",
       "      <td>...</td>\n",
       "      <td>...</td>\n",
       "      <td>...</td>\n",
       "      <td>...</td>\n",
       "    </tr>\n",
       "    <tr>\n",
       "      <th>460</th>\n",
       "      <td>2</td>\n",
       "      <td>35</td>\n",
       "      <td>24.193597</td>\n",
       "      <td>130</td>\n",
       "      <td>90</td>\n",
       "      <td>2</td>\n",
       "      <td>0</td>\n",
       "      <td>292.10</td>\n",
       "      <td>8.1</td>\n",
       "      <td>1</td>\n",
       "    </tr>\n",
       "    <tr>\n",
       "      <th>461</th>\n",
       "      <td>2</td>\n",
       "      <td>40</td>\n",
       "      <td>22.077443</td>\n",
       "      <td>140</td>\n",
       "      <td>90</td>\n",
       "      <td>0</td>\n",
       "      <td>0</td>\n",
       "      <td>279.40</td>\n",
       "      <td>6.9</td>\n",
       "      <td>0</td>\n",
       "    </tr>\n",
       "    <tr>\n",
       "      <th>462</th>\n",
       "      <td>3</td>\n",
       "      <td>28</td>\n",
       "      <td>26.489311</td>\n",
       "      <td>140</td>\n",
       "      <td>100</td>\n",
       "      <td>0</td>\n",
       "      <td>0</td>\n",
       "      <td>317.50</td>\n",
       "      <td>12.0</td>\n",
       "      <td>1</td>\n",
       "    </tr>\n",
       "    <tr>\n",
       "      <th>463</th>\n",
       "      <td>2</td>\n",
       "      <td>35</td>\n",
       "      <td>22.580690</td>\n",
       "      <td>110</td>\n",
       "      <td>80</td>\n",
       "      <td>0</td>\n",
       "      <td>0</td>\n",
       "      <td>292.10</td>\n",
       "      <td>20.0</td>\n",
       "      <td>1</td>\n",
       "    </tr>\n",
       "    <tr>\n",
       "      <th>464</th>\n",
       "      <td>3</td>\n",
       "      <td>38</td>\n",
       "      <td>22.388934</td>\n",
       "      <td>120</td>\n",
       "      <td>70</td>\n",
       "      <td>2</td>\n",
       "      <td>0</td>\n",
       "      <td>254.00</td>\n",
       "      <td>13.0</td>\n",
       "      <td>1</td>\n",
       "    </tr>\n",
       "  </tbody>\n",
       "</table>\n",
       "<p>465 rows × 10 columns</p>\n",
       "</div>"
      ],
      "text/plain": [
       "     No. of Pregnancy  Age        BMI  BP(Systolic)  BP(Diastolic)  Genetic  \\\n",
       "0                   3   50  22.263762           140             90        0   \n",
       "1                   1   40  24.111159           110             80        2   \n",
       "2                   0   21  17.183204           120             80        0   \n",
       "3                   2   30  21.244332           130             85        0   \n",
       "4                   2   35  22.819490           110             75        0   \n",
       "..                ...  ...        ...           ...            ...      ...   \n",
       "460                 2   35  24.193597           130             90        2   \n",
       "461                 2   40  22.077443           140             90        0   \n",
       "462                 3   28  26.489311           140            100        0   \n",
       "463                 2   35  22.580690           110             80        0   \n",
       "464                 3   38  22.388934           120             70        2   \n",
       "\n",
       "     Insulin  Skin Thickness(mm)  Glucose Consumption  Outcome  \n",
       "0          0              317.50                 14.6        1  \n",
       "1          0              317.50                  6.1        0  \n",
       "2          0              259.08                  9.7        1  \n",
       "3          0              322.58                 17.8        1  \n",
       "4          0              335.28                 16.7        1  \n",
       "..       ...                 ...                  ...      ...  \n",
       "460        0              292.10                  8.1        1  \n",
       "461        0              279.40                  6.9        0  \n",
       "462        0              317.50                 12.0        1  \n",
       "463        0              292.10                 20.0        1  \n",
       "464        0              254.00                 13.0        1  \n",
       "\n",
       "[465 rows x 10 columns]"
      ]
     },
     "execution_count": 2,
     "metadata": {},
     "output_type": "execute_result"
    }
   ],
   "source": [
    "dataset=pd.read_csv(\"DIABETES DATASET.csv\", delimiter=\",\")\n",
    "dataset"
   ]
  },
  {
   "cell_type": "code",
   "execution_count": 3,
   "id": "homeless-queensland",
   "metadata": {},
   "outputs": [
    {
     "data": {
      "text/plain": [
       "Index(['No. of Pregnancy', 'Age', 'BMI', 'BP(Systolic)', 'BP(Diastolic)',\n",
       "       'Genetic', 'Insulin', 'Skin Thickness(mm)', 'Glucose Consumption',\n",
       "       'Outcome'],\n",
       "      dtype='object')"
      ]
     },
     "execution_count": 3,
     "metadata": {},
     "output_type": "execute_result"
    }
   ],
   "source": [
    "dataset.columns"
   ]
  },
  {
   "cell_type": "code",
   "execution_count": 4,
   "id": "realistic-idaho",
   "metadata": {},
   "outputs": [
    {
     "data": {
      "text/plain": [
       "(465, 10)"
      ]
     },
     "execution_count": 4,
     "metadata": {},
     "output_type": "execute_result"
    }
   ],
   "source": [
    "dataset.shape"
   ]
  },
  {
   "cell_type": "code",
   "execution_count": 5,
   "id": "trying-grant",
   "metadata": {},
   "outputs": [
    {
     "data": {
      "text/html": [
       "<div>\n",
       "<style scoped>\n",
       "    .dataframe tbody tr th:only-of-type {\n",
       "        vertical-align: middle;\n",
       "    }\n",
       "\n",
       "    .dataframe tbody tr th {\n",
       "        vertical-align: top;\n",
       "    }\n",
       "\n",
       "    .dataframe thead th {\n",
       "        text-align: right;\n",
       "    }\n",
       "</style>\n",
       "<table border=\"1\" class=\"dataframe\">\n",
       "  <thead>\n",
       "    <tr style=\"text-align: right;\">\n",
       "      <th></th>\n",
       "      <th>No. of Pregnancy</th>\n",
       "      <th>Age</th>\n",
       "      <th>BMI</th>\n",
       "      <th>BP(Systolic)</th>\n",
       "      <th>BP(Diastolic)</th>\n",
       "      <th>Genetic</th>\n",
       "      <th>Insulin</th>\n",
       "      <th>Skin Thickness(mm)</th>\n",
       "      <th>Glucose Consumption</th>\n",
       "      <th>Outcome</th>\n",
       "    </tr>\n",
       "  </thead>\n",
       "  <tbody>\n",
       "    <tr>\n",
       "      <th>count</th>\n",
       "      <td>465.000000</td>\n",
       "      <td>465.000000</td>\n",
       "      <td>465.000000</td>\n",
       "      <td>465.000000</td>\n",
       "      <td>465.000000</td>\n",
       "      <td>465.000000</td>\n",
       "      <td>465.000000</td>\n",
       "      <td>465.000000</td>\n",
       "      <td>465.000000</td>\n",
       "      <td>465.000000</td>\n",
       "    </tr>\n",
       "    <tr>\n",
       "      <th>mean</th>\n",
       "      <td>3.047312</td>\n",
       "      <td>44.296774</td>\n",
       "      <td>25.178749</td>\n",
       "      <td>119.141935</td>\n",
       "      <td>79.425806</td>\n",
       "      <td>1.526882</td>\n",
       "      <td>5.156989</td>\n",
       "      <td>306.878430</td>\n",
       "      <td>13.739806</td>\n",
       "      <td>0.800000</td>\n",
       "    </tr>\n",
       "    <tr>\n",
       "      <th>std</th>\n",
       "      <td>1.845871</td>\n",
       "      <td>12.833738</td>\n",
       "      <td>3.765211</td>\n",
       "      <td>13.959504</td>\n",
       "      <td>10.695198</td>\n",
       "      <td>1.664742</td>\n",
       "      <td>8.992998</td>\n",
       "      <td>34.630121</td>\n",
       "      <td>6.519517</td>\n",
       "      <td>0.400431</td>\n",
       "    </tr>\n",
       "    <tr>\n",
       "      <th>min</th>\n",
       "      <td>0.000000</td>\n",
       "      <td>21.000000</td>\n",
       "      <td>17.183204</td>\n",
       "      <td>80.000000</td>\n",
       "      <td>30.000000</td>\n",
       "      <td>0.000000</td>\n",
       "      <td>0.000000</td>\n",
       "      <td>29.210000</td>\n",
       "      <td>5.000000</td>\n",
       "      <td>0.000000</td>\n",
       "    </tr>\n",
       "    <tr>\n",
       "      <th>25%</th>\n",
       "      <td>2.000000</td>\n",
       "      <td>35.000000</td>\n",
       "      <td>22.580690</td>\n",
       "      <td>110.000000</td>\n",
       "      <td>70.000000</td>\n",
       "      <td>0.000000</td>\n",
       "      <td>0.000000</td>\n",
       "      <td>284.480000</td>\n",
       "      <td>8.000000</td>\n",
       "      <td>1.000000</td>\n",
       "    </tr>\n",
       "    <tr>\n",
       "      <th>50%</th>\n",
       "      <td>3.000000</td>\n",
       "      <td>42.000000</td>\n",
       "      <td>24.576776</td>\n",
       "      <td>120.000000</td>\n",
       "      <td>80.000000</td>\n",
       "      <td>1.000000</td>\n",
       "      <td>0.000000</td>\n",
       "      <td>304.800000</td>\n",
       "      <td>12.800000</td>\n",
       "      <td>1.000000</td>\n",
       "    </tr>\n",
       "    <tr>\n",
       "      <th>75%</th>\n",
       "      <td>4.000000</td>\n",
       "      <td>53.000000</td>\n",
       "      <td>27.492665</td>\n",
       "      <td>130.000000</td>\n",
       "      <td>80.000000</td>\n",
       "      <td>2.000000</td>\n",
       "      <td>10.000000</td>\n",
       "      <td>330.200000</td>\n",
       "      <td>17.500000</td>\n",
       "      <td>1.000000</td>\n",
       "    </tr>\n",
       "    <tr>\n",
       "      <th>max</th>\n",
       "      <td>12.000000</td>\n",
       "      <td>86.000000</td>\n",
       "      <td>37.442807</td>\n",
       "      <td>180.000000</td>\n",
       "      <td>120.000000</td>\n",
       "      <td>8.000000</td>\n",
       "      <td>44.000000</td>\n",
       "      <td>406.400000</td>\n",
       "      <td>45.000000</td>\n",
       "      <td>1.000000</td>\n",
       "    </tr>\n",
       "  </tbody>\n",
       "</table>\n",
       "</div>"
      ],
      "text/plain": [
       "       No. of Pregnancy         Age         BMI  BP(Systolic)  BP(Diastolic)  \\\n",
       "count        465.000000  465.000000  465.000000    465.000000     465.000000   \n",
       "mean           3.047312   44.296774   25.178749    119.141935      79.425806   \n",
       "std            1.845871   12.833738    3.765211     13.959504      10.695198   \n",
       "min            0.000000   21.000000   17.183204     80.000000      30.000000   \n",
       "25%            2.000000   35.000000   22.580690    110.000000      70.000000   \n",
       "50%            3.000000   42.000000   24.576776    120.000000      80.000000   \n",
       "75%            4.000000   53.000000   27.492665    130.000000      80.000000   \n",
       "max           12.000000   86.000000   37.442807    180.000000     120.000000   \n",
       "\n",
       "          Genetic     Insulin  Skin Thickness(mm)  Glucose Consumption  \\\n",
       "count  465.000000  465.000000          465.000000           465.000000   \n",
       "mean     1.526882    5.156989          306.878430            13.739806   \n",
       "std      1.664742    8.992998           34.630121             6.519517   \n",
       "min      0.000000    0.000000           29.210000             5.000000   \n",
       "25%      0.000000    0.000000          284.480000             8.000000   \n",
       "50%      1.000000    0.000000          304.800000            12.800000   \n",
       "75%      2.000000   10.000000          330.200000            17.500000   \n",
       "max      8.000000   44.000000          406.400000            45.000000   \n",
       "\n",
       "          Outcome  \n",
       "count  465.000000  \n",
       "mean     0.800000  \n",
       "std      0.400431  \n",
       "min      0.000000  \n",
       "25%      1.000000  \n",
       "50%      1.000000  \n",
       "75%      1.000000  \n",
       "max      1.000000  "
      ]
     },
     "execution_count": 5,
     "metadata": {},
     "output_type": "execute_result"
    }
   ],
   "source": [
    "dataset.describe()"
   ]
  },
  {
   "cell_type": "code",
   "execution_count": 6,
   "id": "right-nylon",
   "metadata": {},
   "outputs": [
    {
     "data": {
      "text/html": [
       "<div>\n",
       "<style scoped>\n",
       "    .dataframe tbody tr th:only-of-type {\n",
       "        vertical-align: middle;\n",
       "    }\n",
       "\n",
       "    .dataframe tbody tr th {\n",
       "        vertical-align: top;\n",
       "    }\n",
       "\n",
       "    .dataframe thead th {\n",
       "        text-align: right;\n",
       "    }\n",
       "</style>\n",
       "<table border=\"1\" class=\"dataframe\">\n",
       "  <thead>\n",
       "    <tr style=\"text-align: right;\">\n",
       "      <th></th>\n",
       "      <th>No. of Pregnancy</th>\n",
       "      <th>Age</th>\n",
       "      <th>BMI</th>\n",
       "      <th>BP(Systolic)</th>\n",
       "      <th>BP(Diastolic)</th>\n",
       "      <th>Genetic</th>\n",
       "      <th>Insulin</th>\n",
       "      <th>Skin Thickness(mm)</th>\n",
       "      <th>Glucose Consumption</th>\n",
       "      <th>Outcome</th>\n",
       "    </tr>\n",
       "  </thead>\n",
       "  <tbody>\n",
       "    <tr>\n",
       "      <th>0</th>\n",
       "      <td>3</td>\n",
       "      <td>50</td>\n",
       "      <td>22.263762</td>\n",
       "      <td>140</td>\n",
       "      <td>90</td>\n",
       "      <td>0</td>\n",
       "      <td>0</td>\n",
       "      <td>317.50</td>\n",
       "      <td>14.6</td>\n",
       "      <td>1</td>\n",
       "    </tr>\n",
       "    <tr>\n",
       "      <th>1</th>\n",
       "      <td>1</td>\n",
       "      <td>40</td>\n",
       "      <td>24.111159</td>\n",
       "      <td>110</td>\n",
       "      <td>80</td>\n",
       "      <td>2</td>\n",
       "      <td>0</td>\n",
       "      <td>317.50</td>\n",
       "      <td>6.1</td>\n",
       "      <td>0</td>\n",
       "    </tr>\n",
       "    <tr>\n",
       "      <th>2</th>\n",
       "      <td>0</td>\n",
       "      <td>21</td>\n",
       "      <td>17.183204</td>\n",
       "      <td>120</td>\n",
       "      <td>80</td>\n",
       "      <td>0</td>\n",
       "      <td>0</td>\n",
       "      <td>259.08</td>\n",
       "      <td>9.7</td>\n",
       "      <td>1</td>\n",
       "    </tr>\n",
       "    <tr>\n",
       "      <th>3</th>\n",
       "      <td>2</td>\n",
       "      <td>30</td>\n",
       "      <td>21.244332</td>\n",
       "      <td>130</td>\n",
       "      <td>85</td>\n",
       "      <td>0</td>\n",
       "      <td>0</td>\n",
       "      <td>322.58</td>\n",
       "      <td>17.8</td>\n",
       "      <td>1</td>\n",
       "    </tr>\n",
       "    <tr>\n",
       "      <th>4</th>\n",
       "      <td>2</td>\n",
       "      <td>35</td>\n",
       "      <td>22.819490</td>\n",
       "      <td>110</td>\n",
       "      <td>75</td>\n",
       "      <td>0</td>\n",
       "      <td>0</td>\n",
       "      <td>335.28</td>\n",
       "      <td>16.7</td>\n",
       "      <td>1</td>\n",
       "    </tr>\n",
       "  </tbody>\n",
       "</table>\n",
       "</div>"
      ],
      "text/plain": [
       "   No. of Pregnancy  Age        BMI  BP(Systolic)  BP(Diastolic)  Genetic  \\\n",
       "0                 3   50  22.263762           140             90        0   \n",
       "1                 1   40  24.111159           110             80        2   \n",
       "2                 0   21  17.183204           120             80        0   \n",
       "3                 2   30  21.244332           130             85        0   \n",
       "4                 2   35  22.819490           110             75        0   \n",
       "\n",
       "   Insulin  Skin Thickness(mm)  Glucose Consumption  Outcome  \n",
       "0        0              317.50                 14.6        1  \n",
       "1        0              317.50                  6.1        0  \n",
       "2        0              259.08                  9.7        1  \n",
       "3        0              322.58                 17.8        1  \n",
       "4        0              335.28                 16.7        1  "
      ]
     },
     "execution_count": 6,
     "metadata": {},
     "output_type": "execute_result"
    }
   ],
   "source": [
    "dataset.head(5)"
   ]
  },
  {
   "cell_type": "code",
   "execution_count": 7,
   "id": "critical-situation",
   "metadata": {},
   "outputs": [
    {
     "name": "stdout",
     "output_type": "stream",
     "text": [
      "<class 'pandas.core.frame.DataFrame'>\n",
      "RangeIndex: 465 entries, 0 to 464\n",
      "Data columns (total 10 columns):\n",
      " #   Column               Non-Null Count  Dtype  \n",
      "---  ------               --------------  -----  \n",
      " 0   No. of Pregnancy     465 non-null    int64  \n",
      " 1   Age                  465 non-null    int64  \n",
      " 2   BMI                  465 non-null    float64\n",
      " 3   BP(Systolic)         465 non-null    int64  \n",
      " 4   BP(Diastolic)        465 non-null    int64  \n",
      " 5   Genetic              465 non-null    int64  \n",
      " 6   Insulin              465 non-null    int64  \n",
      " 7   Skin Thickness(mm)   465 non-null    float64\n",
      " 8   Glucose Consumption  465 non-null    float64\n",
      " 9   Outcome              465 non-null    int64  \n",
      "dtypes: float64(3), int64(7)\n",
      "memory usage: 36.5 KB\n"
     ]
    }
   ],
   "source": [
    "dataset.info()"
   ]
  },
  {
   "cell_type": "markdown",
   "id": "british-corporation",
   "metadata": {},
   "source": [
    "# Check missing values"
   ]
  },
  {
   "cell_type": "code",
   "execution_count": 8,
   "id": "accepting-armenia",
   "metadata": {},
   "outputs": [
    {
     "data": {
      "text/plain": [
       "No. of Pregnancy       0\n",
       "Age                    0\n",
       "BMI                    0\n",
       "BP(Systolic)           0\n",
       "BP(Diastolic)          0\n",
       "Genetic                0\n",
       "Insulin                0\n",
       "Skin Thickness(mm)     0\n",
       "Glucose Consumption    0\n",
       "Outcome                0\n",
       "dtype: int64"
      ]
     },
     "execution_count": 8,
     "metadata": {},
     "output_type": "execute_result"
    }
   ],
   "source": [
    "#Cheking missing values\n",
    "dataset.isnull().sum()"
   ]
  },
  {
   "cell_type": "markdown",
   "id": "appreciated-fighter",
   "metadata": {},
   "source": [
    "# Outlier Detection"
   ]
  },
  {
   "cell_type": "code",
   "execution_count": 9,
   "id": "atomic-amber",
   "metadata": {},
   "outputs": [
    {
     "data": {
      "text/plain": [
       "<AxesSubplot:>"
      ]
     },
     "execution_count": 9,
     "metadata": {},
     "output_type": "execute_result"
    },
    {
     "data": {
      "image/png": "[encoded data removed]",
      "text/plain": [
       "<Figure size 432x288 with 1 Axes>"
      ]
     },
     "metadata": {
      "needs_background": "light"
     },
     "output_type": "display_data"
    }
   ],
   "source": [
    "#detecting outlier\n",
    "dataset.boxplot()"
   ]
  },
  {
   "cell_type": "code",
   "execution_count": 10,
   "id": "promising-relaxation",
   "metadata": {},
   "outputs": [],
   "source": [
    "a = dataset.iloc[: , 0:9]\n",
    "b = dataset.iloc[: , 9]"
   ]
  },
  {
   "cell_type": "markdown",
   "id": "cutting-infrastructure",
   "metadata": {},
   "source": [
    "# Outlier detection replacement by median using z-score"
   ]
  },
  {
   "cell_type": "code",
   "execution_count": 11,
   "id": "disabled-introduction",
   "metadata": {},
   "outputs": [
    {
     "name": "stdout",
     "output_type": "stream",
     "text": [
      "     No. of Pregnancy       Age       BMI  BP(Systolic)  BP(Diastolic)  \\\n",
      "0            0.025659  0.444872  0.775023      1.495793       0.989751   \n",
      "1            1.110325  0.335164  0.283846      0.655595       0.053745   \n",
      "2            1.652658  1.817231  2.125819      0.061534       0.053745   \n",
      "3            0.567992  1.115199  1.046065      0.778664       0.521748   \n",
      "4            0.567992  0.725181  0.627269      0.655595       0.414258   \n",
      "..                ...       ...       ...           ...            ...   \n",
      "460          0.567992  0.725181  0.261928      0.778664       0.989751   \n",
      "461          0.567992  0.335164  0.824561      1.495793       0.989751   \n",
      "462          0.025659  1.271206  0.348446      1.495793       1.925757   \n",
      "463          0.567992  0.725181  0.690760      0.655595       0.053745   \n",
      "464          0.025659  0.491171  0.741743      0.061534       0.882261   \n",
      "\n",
      "      Genetic   Insulin  Skin Thickness(mm)  Glucose Consumption  \n",
      "0    0.918176  0.574063            0.307045             0.132083  \n",
      "1    0.284505  0.574063            0.307045             1.173098  \n",
      "2    0.918176  0.574063            1.381742             0.620315  \n",
      "3    0.918176  0.574063            0.453896             0.623446  \n",
      "4    0.918176  0.574063            0.821024             0.454540  \n",
      "..        ...       ...                 ...                  ...  \n",
      "460  0.284505  0.574063            0.427210             0.865997  \n",
      "461  0.918176  0.574063            0.794338             1.050258  \n",
      "462  0.918176  0.574063            0.307045             0.267149  \n",
      "463  0.918176  0.574063            0.427210             0.961258  \n",
      "464  0.284505  0.574063            1.528594             0.113598  \n",
      "\n",
      "[465 rows x 9 columns]\n"
     ]
    }
   ],
   "source": [
    "from scipy.stats import zscore\n",
    "\n",
    "numeric_cols=a.select_dtypes(include=[np.number]).columns\n",
    "z=a[numeric_cols].apply(zscore).abs()\n",
    "print(z)"
   ]
  },
  {
   "cell_type": "code",
   "execution_count": 12,
   "id": "fleet-bread",
   "metadata": {},
   "outputs": [],
   "source": [
    "my_cols=['No. of Pregnancy', 'Age', 'BMI', 'BP(Systolic)', 'BP(Diastolic)',\n",
    "       'Genetic', 'Insulin', 'Skin Thickness(mm)', 'Glucose Consumption']\n",
    "for col in my_cols:\n",
    "    z.loc[z[col]>3,col]=np.nan"
   ]
  },
  {
   "cell_type": "code",
   "execution_count": 13,
   "id": "suffering-thompson",
   "metadata": {},
   "outputs": [
    {
     "data": {
      "text/plain": [
       "No. of Pregnancy       9\n",
       "Age                    2\n",
       "BMI                    4\n",
       "BP(Systolic)           2\n",
       "BP(Diastolic)          5\n",
       "Genetic                5\n",
       "Insulin                2\n",
       "Skin Thickness(mm)     1\n",
       "Glucose Consumption    4\n",
       "dtype: int64"
      ]
     },
     "execution_count": 13,
     "metadata": {},
     "output_type": "execute_result"
    }
   ],
   "source": [
    "z.isnull().sum()"
   ]
  },
  {
   "cell_type": "code",
   "execution_count": 14,
   "id": "norwegian-license",
   "metadata": {},
   "outputs": [],
   "source": [
    "d=z.fillna(z.median())"
   ]
  },
  {
   "cell_type": "code",
   "execution_count": 15,
   "id": "convinced-mayor",
   "metadata": {},
   "outputs": [
    {
     "data": {
      "text/plain": [
       "No. of Pregnancy       0\n",
       "Age                    0\n",
       "BMI                    0\n",
       "BP(Systolic)           0\n",
       "BP(Diastolic)          0\n",
       "Genetic                0\n",
       "Insulin                0\n",
       "Skin Thickness(mm)     0\n",
       "Glucose Consumption    0\n",
       "dtype: int64"
      ]
     },
     "execution_count": 15,
     "metadata": {},
     "output_type": "execute_result"
    }
   ],
   "source": [
    "d.isnull().sum()"
   ]
  },
  {
   "cell_type": "code",
   "execution_count": 16,
   "id": "peripheral-wrapping",
   "metadata": {},
   "outputs": [
    {
     "data": {
      "text/html": [
       "<div>\n",
       "<style scoped>\n",
       "    .dataframe tbody tr th:only-of-type {\n",
       "        vertical-align: middle;\n",
       "    }\n",
       "\n",
       "    .dataframe tbody tr th {\n",
       "        vertical-align: top;\n",
       "    }\n",
       "\n",
       "    .dataframe thead th {\n",
       "        text-align: right;\n",
       "    }\n",
       "</style>\n",
       "<table border=\"1\" class=\"dataframe\">\n",
       "  <thead>\n",
       "    <tr style=\"text-align: right;\">\n",
       "      <th></th>\n",
       "      <th>No. of Pregnancy</th>\n",
       "      <th>Age</th>\n",
       "      <th>BMI</th>\n",
       "      <th>BP(Systolic)</th>\n",
       "      <th>BP(Diastolic)</th>\n",
       "      <th>Genetic</th>\n",
       "      <th>Insulin</th>\n",
       "      <th>Skin Thickness(mm)</th>\n",
       "      <th>Glucose Consumption</th>\n",
       "      <th>Outcome</th>\n",
       "    </tr>\n",
       "  </thead>\n",
       "  <tbody>\n",
       "    <tr>\n",
       "      <th>0</th>\n",
       "      <td>0.025659</td>\n",
       "      <td>0.444872</td>\n",
       "      <td>0.775023</td>\n",
       "      <td>1.495793</td>\n",
       "      <td>0.989751</td>\n",
       "      <td>0.918176</td>\n",
       "      <td>0.574063</td>\n",
       "      <td>0.307045</td>\n",
       "      <td>0.132083</td>\n",
       "      <td>1</td>\n",
       "    </tr>\n",
       "    <tr>\n",
       "      <th>1</th>\n",
       "      <td>1.110325</td>\n",
       "      <td>0.335164</td>\n",
       "      <td>0.283846</td>\n",
       "      <td>0.655595</td>\n",
       "      <td>0.053745</td>\n",
       "      <td>0.284505</td>\n",
       "      <td>0.574063</td>\n",
       "      <td>0.307045</td>\n",
       "      <td>1.173098</td>\n",
       "      <td>0</td>\n",
       "    </tr>\n",
       "    <tr>\n",
       "      <th>2</th>\n",
       "      <td>1.652658</td>\n",
       "      <td>1.817231</td>\n",
       "      <td>2.125819</td>\n",
       "      <td>0.061534</td>\n",
       "      <td>0.053745</td>\n",
       "      <td>0.918176</td>\n",
       "      <td>0.574063</td>\n",
       "      <td>1.381742</td>\n",
       "      <td>0.620315</td>\n",
       "      <td>1</td>\n",
       "    </tr>\n",
       "    <tr>\n",
       "      <th>3</th>\n",
       "      <td>0.567992</td>\n",
       "      <td>1.115199</td>\n",
       "      <td>1.046065</td>\n",
       "      <td>0.778664</td>\n",
       "      <td>0.521748</td>\n",
       "      <td>0.918176</td>\n",
       "      <td>0.574063</td>\n",
       "      <td>0.453896</td>\n",
       "      <td>0.623446</td>\n",
       "      <td>1</td>\n",
       "    </tr>\n",
       "    <tr>\n",
       "      <th>4</th>\n",
       "      <td>0.567992</td>\n",
       "      <td>0.725181</td>\n",
       "      <td>0.627269</td>\n",
       "      <td>0.655595</td>\n",
       "      <td>0.414258</td>\n",
       "      <td>0.918176</td>\n",
       "      <td>0.574063</td>\n",
       "      <td>0.821024</td>\n",
       "      <td>0.454540</td>\n",
       "      <td>1</td>\n",
       "    </tr>\n",
       "  </tbody>\n",
       "</table>\n",
       "</div>"
      ],
      "text/plain": [
       "   No. of Pregnancy       Age       BMI  BP(Systolic)  BP(Diastolic)  \\\n",
       "0          0.025659  0.444872  0.775023      1.495793       0.989751   \n",
       "1          1.110325  0.335164  0.283846      0.655595       0.053745   \n",
       "2          1.652658  1.817231  2.125819      0.061534       0.053745   \n",
       "3          0.567992  1.115199  1.046065      0.778664       0.521748   \n",
       "4          0.567992  0.725181  0.627269      0.655595       0.414258   \n",
       "\n",
       "    Genetic   Insulin  Skin Thickness(mm)  Glucose Consumption  Outcome  \n",
       "0  0.918176  0.574063            0.307045             0.132083        1  \n",
       "1  0.284505  0.574063            0.307045             1.173098        0  \n",
       "2  0.918176  0.574063            1.381742             0.620315        1  \n",
       "3  0.918176  0.574063            0.453896             0.623446        1  \n",
       "4  0.918176  0.574063            0.821024             0.454540        1  "
      ]
     },
     "execution_count": 16,
     "metadata": {},
     "output_type": "execute_result"
    }
   ],
   "source": [
    "new=pd.concat([d,b],axis=1)\n",
    "new.head()"
   ]
  },
  {
   "cell_type": "code",
   "execution_count": 17,
   "id": "vanilla-anatomy",
   "metadata": {},
   "outputs": [],
   "source": [
    "X= new.iloc[:,new.columns !=\"Outcome\"]\n",
    "y= new.iloc[:,new.columns == \"Outcome\"]"
   ]
  },
  {
   "cell_type": "code",
   "execution_count": 18,
   "id": "positive-combination",
   "metadata": {},
   "outputs": [
    {
     "data": {
      "text/plain": [
       "0    1\n",
       "1    0\n",
       "2    1\n",
       "3    1\n",
       "4    1\n",
       "Name: Outcome, dtype: int64"
      ]
     },
     "execution_count": 18,
     "metadata": {},
     "output_type": "execute_result"
    }
   ],
   "source": [
    "y=new[\"Outcome\"]\n",
    "y.head()"
   ]
  },
  {
   "cell_type": "markdown",
   "id": "auburn-publication",
   "metadata": {},
   "source": [
    "# Balancing outcome by SMOTE"
   ]
  },
  {
   "cell_type": "code",
   "execution_count": 19,
   "id": "authentic-wiring",
   "metadata": {},
   "outputs": [
    {
     "data": {
      "text/plain": [
       "1    0.8\n",
       "0    0.2\n",
       "Name: Outcome, dtype: float64"
      ]
     },
     "execution_count": 19,
     "metadata": {},
     "output_type": "execute_result"
    }
   ],
   "source": [
    "#Lets check if the data is Balanced or not\n",
    "round(dataset.Outcome.value_counts(normalize = True),2)"
   ]
  },
  {
   "cell_type": "code",
   "execution_count": 20,
   "id": "statutory-filter",
   "metadata": {},
   "outputs": [
    {
     "data": {
      "image/png": "[encoded data removed]",
      "text/plain": [
       "<Figure size 432x288 with 1 Axes>"
      ]
     },
     "metadata": {
      "needs_background": "light"
     },
     "output_type": "display_data"
    }
   ],
   "source": [
    "# Bar plot with respec to Outcoome 1 and 0 \n",
    "round(dataset.Outcome.value_counts(normalize = True),2).plot.bar()\n",
    "plt.show()"
   ]
  },
  {
   "cell_type": "code",
   "execution_count": 21,
   "id": "suspended-batch",
   "metadata": {},
   "outputs": [],
   "source": [
    "from imblearn.over_sampling  import SMOTE\n",
    "smt= SMOTE()\n",
    "data_X, data_y =smt.fit_resample(X, y)"
   ]
  },
  {
   "cell_type": "code",
   "execution_count": 22,
   "id": "stock-vessel",
   "metadata": {},
   "outputs": [
    {
     "name": "stdout",
     "output_type": "stream",
     "text": [
      "(744, 9)\n",
      "(744,)\n"
     ]
    }
   ],
   "source": [
    "print(data_X.shape)\n",
    "print(data_y.shape)"
   ]
  },
  {
   "cell_type": "code",
   "execution_count": 23,
   "id": "closing-secretariat",
   "metadata": {},
   "outputs": [
    {
     "data": {
      "text/plain": [
       "<AxesSubplot:>"
      ]
     },
     "execution_count": 23,
     "metadata": {},
     "output_type": "execute_result"
    },
    {
     "data": {
      "image/png": "[encoded data removed]",
      "text/plain": [
       "<Figure size 432x288 with 1 Axes>"
      ]
     },
     "metadata": {
      "needs_background": "light"
     },
     "output_type": "display_data"
    }
   ],
   "source": [
    "data_y.value_counts(normalize = True).plot.bar()"
   ]
  },
  {
   "cell_type": "markdown",
   "id": "educated-poison",
   "metadata": {},
   "source": [
    "# Data scaling"
   ]
  },
  {
   "cell_type": "code",
   "execution_count": 24,
   "id": "worthy-aurora",
   "metadata": {},
   "outputs": [],
   "source": [
    "from sklearn.preprocessing import StandardScaler\n",
    "trans= StandardScaler()\n",
    "trans.fit(data_X)\n",
    "X=trans.fit_transform(data_X)"
   ]
  },
  {
   "cell_type": "code",
   "execution_count": 25,
   "id": "given-boring",
   "metadata": {},
   "outputs": [],
   "source": [
    "from sklearn.model_selection import train_test_split\n",
    "X_train, X_test, y_train, y_test=train_test_split(data_X,data_y,test_size=0.30,random_state=7)"
   ]
  },
  {
   "cell_type": "markdown",
   "id": "undefined-reasoning",
   "metadata": {},
   "source": [
    "# Building first layer model"
   ]
  },
  {
   "cell_type": "code",
   "execution_count": 26,
   "id": "satisfactory-spencer",
   "metadata": {},
   "outputs": [],
   "source": [
    "from sklearn.tree import DecisionTreeClassifier\n",
    "dtc =  DecisionTreeClassifier()\n",
    "from sklearn.ensemble import RandomForestClassifier\n",
    "rfc = RandomForestClassifier()\n",
    "from sklearn.svm import SVC\n",
    "svc= SVC()\n"
   ]
  },
  {
   "cell_type": "markdown",
   "id": "varying-blend",
   "metadata": {},
   "source": [
    "# Training Decision Tree"
   ]
  },
  {
   "cell_type": "code",
   "execution_count": 27,
   "id": "blank-parts",
   "metadata": {},
   "outputs": [],
   "source": [
    "model_dtc = dtc.fit(X_train,y_train)   # fitting Training Set\n",
    "pred_dtc = model_dtc.predict(X_test)   # Predicting on test dataset\n",
    " "
   ]
  },
  {
   "cell_type": "code",
   "execution_count": 28,
   "id": "round-release",
   "metadata": {},
   "outputs": [
    {
     "name": "stdout",
     "output_type": "stream",
     "text": [
      "accuracy score of DecisionTreeClassifier is: 0.9642857142857143\n"
     ]
    }
   ],
   "source": [
    "from sklearn.metrics import accuracy_score\n",
    "acc_dtc = accuracy_score(y_test, pred_dtc)  # evaluating accuracy score\n",
    "\n",
    "print('accuracy score of DecisionTreeClassifier is:', acc_dtc)"
   ]
  },
  {
   "cell_type": "code",
   "execution_count": 29,
   "id": "confident-basic",
   "metadata": {},
   "outputs": [
    {
     "name": "stdout",
     "output_type": "stream",
     "text": [
      "[[118   4]\n",
      " [  4  98]]\n",
      "              precision    recall  f1-score   support\n",
      "\n",
      "           0       0.97      0.97      0.97       122\n",
      "           1       0.96      0.96      0.96       102\n",
      "\n",
      "    accuracy                           0.96       224\n",
      "   macro avg       0.96      0.96      0.96       224\n",
      "weighted avg       0.96      0.96      0.96       224\n",
      "\n"
     ]
    }
   ],
   "source": [
    "from sklearn.metrics import classification_report, confusion_matrix\n",
    "\n",
    "print(confusion_matrix(y_test, pred_dtc))\n",
    "print(classification_report(y_test,pred_dtc))"
   ]
  },
  {
   "cell_type": "markdown",
   "id": "local-subscriber",
   "metadata": {},
   "source": [
    "# Training RandomForestClassifier"
   ]
  },
  {
   "cell_type": "code",
   "execution_count": 30,
   "id": "assured-falls",
   "metadata": {},
   "outputs": [],
   "source": [
    "model_rfc = rfc.fit(X_train,y_train)   # fitting Training Set\n",
    "pred_rfc = model_rfc.predict(X_test)   # Predicting on test dataset"
   ]
  },
  {
   "cell_type": "code",
   "execution_count": 31,
   "id": "accomplished-disorder",
   "metadata": {},
   "outputs": [
    {
     "name": "stdout",
     "output_type": "stream",
     "text": [
      "accuracy score of RandomForestClassifier is: 0.9508928571428571\n"
     ]
    }
   ],
   "source": [
    "from sklearn.metrics import accuracy_score\n",
    "acc_rfc = accuracy_score(y_test, pred_rfc)  # evaluating accuracy score\n",
    "\n",
    "print('accuracy score of RandomForestClassifier is:', acc_rfc)"
   ]
  },
  {
   "cell_type": "code",
   "execution_count": 32,
   "id": "played-truth",
   "metadata": {},
   "outputs": [
    {
     "name": "stdout",
     "output_type": "stream",
     "text": [
      "[[116   6]\n",
      " [  5  97]]\n",
      "              precision    recall  f1-score   support\n",
      "\n",
      "           0       0.96      0.95      0.95       122\n",
      "           1       0.94      0.95      0.95       102\n",
      "\n",
      "    accuracy                           0.95       224\n",
      "   macro avg       0.95      0.95      0.95       224\n",
      "weighted avg       0.95      0.95      0.95       224\n",
      "\n"
     ]
    }
   ],
   "source": [
    "from sklearn.metrics import classification_report, confusion_matrix\n",
    "\n",
    "print(confusion_matrix(y_test, pred_rfc))\n",
    "print(classification_report(y_test,pred_rfc))"
   ]
  },
  {
   "cell_type": "markdown",
   "id": "focused-lightning",
   "metadata": {},
   "source": [
    "# Training Support Vector Machine"
   ]
  },
  {
   "cell_type": "code",
   "execution_count": 33,
   "id": "neutral-baker",
   "metadata": {},
   "outputs": [],
   "source": [
    "model_svc = svc.fit(X_train,y_train)   # fitting Training Set\n",
    "\n",
    "pred_svc = model_svc.predict(X_test)   # Predicting on test dataset\n",
    " "
   ]
  },
  {
   "cell_type": "code",
   "execution_count": 34,
   "id": "specified-pakistan",
   "metadata": {},
   "outputs": [
    {
     "name": "stdout",
     "output_type": "stream",
     "text": [
      "accuracy score of SupportVectorMachineClassifier is: 0.90625\n"
     ]
    }
   ],
   "source": [
    "from sklearn.metrics import accuracy_score\n",
    "acc_svc = accuracy_score(y_test, pred_svc)  # evaluating accuracy score\n",
    "\n",
    "print('accuracy score of SupportVectorMachineClassifier is:', acc_svc)"
   ]
  },
  {
   "cell_type": "code",
   "execution_count": 35,
   "id": "possible-sacrifice",
   "metadata": {},
   "outputs": [
    {
     "name": "stdout",
     "output_type": "stream",
     "text": [
      "[[119   3]\n",
      " [ 18  84]]\n",
      "              precision    recall  f1-score   support\n",
      "\n",
      "           0       0.87      0.98      0.92       122\n",
      "           1       0.97      0.82      0.89       102\n",
      "\n",
      "    accuracy                           0.91       224\n",
      "   macro avg       0.92      0.90      0.90       224\n",
      "weighted avg       0.91      0.91      0.91       224\n",
      "\n"
     ]
    }
   ],
   "source": [
    "from sklearn.metrics import classification_report, confusion_matrix\n",
    "\n",
    "print(confusion_matrix(y_test, pred_svc))\n",
    "print(classification_report(y_test,pred_svc))"
   ]
  },
  {
   "cell_type": "code",
   "execution_count": 36,
   "id": "resistant-heading",
   "metadata": {},
   "outputs": [],
   "source": [
    "from sklearn.linear_model import LogisticRegression\n",
    "from mlxtend.classifier import StackingClassifier\n",
    "lr = LogisticRegression()  # defining meta-classifier\n",
    "\n",
    "clf_stack = StackingClassifier(classifiers =[dtc,rfc,svc], meta_classifier = lr)\n",
    " "
   ]
  },
  {
   "cell_type": "markdown",
   "id": "fitting-demonstration",
   "metadata": {},
   "source": [
    "# Traing Stacking Model"
   ]
  },
  {
   "cell_type": "code",
   "execution_count": 37,
   "id": "chubby-nightmare",
   "metadata": {},
   "outputs": [],
   "source": [
    "from mlxtend.classifier import StackingClassifier\n",
    "\n",
    "model_stack = clf_stack.fit(X_train, y_train)   # training of stacked model\n",
    "pred_stack = model_stack.predict(X_test)       # predictions on test data using stacked model\n",
    " "
   ]
  },
  {
   "cell_type": "markdown",
   "id": "overall-stanley",
   "metadata": {},
   "source": [
    "# evaluating accuracy"
   ]
  },
  {
   "cell_type": "code",
   "execution_count": 38,
   "id": "subjective-sixth",
   "metadata": {},
   "outputs": [
    {
     "name": "stdout",
     "output_type": "stream",
     "text": [
      "accuracy score of Stacked model: 0.9598214285714286\n"
     ]
    }
   ],
   "source": [
    "acc_stack = accuracy_score(y_test, pred_stack)  # evaluating accuracy\n",
    "\n",
    "print('accuracy score of Stacked model:', acc_stack)"
   ]
  },
  {
   "cell_type": "code",
   "execution_count": 39,
   "id": "settled-invention",
   "metadata": {},
   "outputs": [
    {
     "name": "stdout",
     "output_type": "stream",
     "text": [
      "[[118   4]\n",
      " [  5  97]]\n",
      "              precision    recall  f1-score   support\n",
      "\n",
      "           0       0.96      0.97      0.96       122\n",
      "           1       0.96      0.95      0.96       102\n",
      "\n",
      "    accuracy                           0.96       224\n",
      "   macro avg       0.96      0.96      0.96       224\n",
      "weighted avg       0.96      0.96      0.96       224\n",
      "\n"
     ]
    }
   ],
   "source": [
    "from sklearn.metrics import classification_report, confusion_matrix\n",
    "\n",
    "print(confusion_matrix(y_test, pred_stack))\n",
    "print(classification_report(y_test,pred_stack))"
   ]
  },
  {
   "cell_type": "code",
   "execution_count": null,
   "id": "thousand-process",
   "metadata": {},
   "outputs": [],
   "source": []
  }
 ],
 "metadata": {
  "kernelspec": {
   "display_name": "Python 3",
   "language": "python",
   "name": "python3"
  },
  "language_info": {
   "codemirror_mode": {
    "name": "ipython",
    "version": 3
   },
   "file_extension": ".py",
   "mimetype": "text/x-python",
   "name": "python",
   "nbconvert_exporter": "python",
   "pygments_lexer": "ipython3",
   "version": "3.7.9"
  }
 },
 "nbformat": 4,
 "nbformat_minor": 5
}
